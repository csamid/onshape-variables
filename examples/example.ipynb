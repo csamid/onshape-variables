{
 "cells": [
  {
   "cell_type": "markdown",
   "metadata": {},
   "source": [
    "### Onshape Variables API example with the Variables class\n",
    "\n",
    "To follow along with this notebook:\n",
    "1) make sure you have acquired your api keys\n",
    "2) stored your keys in a .env \n",
    "3) installed onshape-variables :)\n",
    "\n",
    "To start we can import the following:"
   ]
  },
  {
   "cell_type": "code",
   "execution_count": null,
   "metadata": {},
   "outputs": [],
   "source": [
    "from decouple import config\n",
    "from onshape_variables.variables import Variables\n",
    "import json"
   ]
  },
  {
   "cell_type": "markdown",
   "metadata": {},
   "source": [
    "Open a new document in Onshape and navigate to the url.\n",
    "Here you will find the the document id (did) and workspace (wid)\n",
    "\n",
    "Example: \n",
    "<!-- ![example_url](../assets/color-test-2.png) -->\n",
    "<img src=\"../assets/color-test-2.png\" alt=\"example_url\" width=\"800\"/>\n",
    "\n",
    "Copy your __did__ and __wid__ into the variables below"
   ]
  },
  {
   "cell_type": "code",
   "execution_count": null,
   "metadata": {},
   "outputs": [],
   "source": [
    "API_ACCESS = config(\"ACCESS_KEY\")\n",
    "API_SECRET = config(\"SECRET_KEY\")\n",
    "\n",
    "did = \"\"  # document id\n",
    "wid = \"\"  # workspace id\n",
    "api_keys = (API_ACCESS, API_SECRET) "
   ]
  },
  {
   "cell_type": "markdown",
   "metadata": {},
   "source": [
    "Now we can create a variable studio object"
   ]
  },
  {
   "cell_type": "code",
   "execution_count": null,
   "metadata": {},
   "outputs": [],
   "source": [
    "my_vs = Variables(api_keys, did, wid)"
   ]
  },
  {
   "cell_type": "markdown",
   "metadata": {},
   "source": [
    "With our object we can create a variable studio and set its scope to all"
   ]
  },
  {
   "cell_type": "code",
   "execution_count": null,
   "metadata": {},
   "outputs": [],
   "source": [
    "my_vs.create_varaible_studio(name=\"My Varaible Studio\")\n",
    "my_vs.set_scope()"
   ]
  },
  {
   "cell_type": "markdown",
   "metadata": {},
   "source": [
    "Let's assign 2 variables into our variable studio called My Variable Studio\n",
    "\n",
    "Note: there are 4 available types\n",
    "- LENGTH\n",
    "- NUMBER\n",
    "- ANGLE \n",
    "- ANY\n",
    "\n",
    "they must be typed in all caps!\n",
    "\n",
    "Note: The name of the variable must start with a letter and can only be followed by a string of letters, numbers, or underscores \n",
    "\n",
    "Examples: \n",
    "| name | valid | \n",
    "| :- | -: |\n",
    "| length 1 | NO | \n",
    "| length_1 | YES | \n",
    "| width3 | YES | \n",
    "| width-3 | NO | \n"
   ]
  },
  {
   "cell_type": "code",
   "execution_count": null,
   "metadata": {},
   "outputs": [],
   "source": [
    "# Assign 2 variables\n",
    "# note 4 avaiable types are LENGTH, NUMBER, ANGLE, ANY\n",
    "my_variables = [\n",
    "    {\n",
    "        \"name\": \"length\",\n",
    "        \"type\": \"LENGTH\",\n",
    "        \"description\": \"box length\",\n",
    "        \"expression\": \"30 mm\",\n",
    "    },\n",
    "    {\n",
    "        \"name\": \"width\",\n",
    "        \"type\": \"LENGTH\",\n",
    "        \"description\": \"box width\",\n",
    "        \"expression\": \"25 mm\",\n",
    "    },\n",
    "]\n",
    "my_vs.assign_variables(my_variables, append=False)"
   ]
  },
  {
   "cell_type": "markdown",
   "metadata": {},
   "source": [
    "We can create a new variable studio to use it as a reference"
   ]
  },
  {
   "cell_type": "code",
   "execution_count": null,
   "metadata": {},
   "outputs": [],
   "source": [
    "my_vs_ref = Variables(api_keys, did, wid)\n",
    "my_vs_ref.create_varaible_studio(name=\"Reference\")\n",
    "my_vs_ref.set_scope()"
   ]
  },
  {
   "cell_type": "markdown",
   "metadata": {},
   "source": [
    "Assign one variable to the new variable studio called my_vs_ref"
   ]
  },
  {
   "cell_type": "code",
   "execution_count": null,
   "metadata": {},
   "outputs": [],
   "source": [
    "# assign one variable to my_vs_ref\n",
    "my_ref_variable = [\n",
    "    {\n",
    "        \"name\": \"nozzle_dia\",\n",
    "        \"type\": \"LENGTH\",\n",
    "        \"description\": \"nozzle diameter\",\n",
    "        \"expression\": \"0.4 mm\",\n",
    "    },\n",
    "]\n",
    "my_vs_ref.assign_variables(my_ref_variable, append=False)"
   ]
  },
  {
   "cell_type": "markdown",
   "metadata": {},
   "source": [
    "Using the `set_references` method, we can reference `my_vs_ref` within `my_vs`"
   ]
  },
  {
   "cell_type": "code",
   "execution_count": null,
   "metadata": {},
   "outputs": [],
   "source": [
    "my_references = {\n",
    "    \"references\": [\n",
    "        {\n",
    "            \"entireVariableStudio\": True,\n",
    "            \"referenceElementId\": my_vs_ref.eid,\n",
    "            \"variableNames\": [],\n",
    "        }\n",
    "    ]\n",
    "}\n",
    "my_vs.set_references(my_references)"
   ]
  },
  {
   "cell_type": "markdown",
   "metadata": {},
   "source": [
    "This allows us to assign a new variable that references nozzle_dia"
   ]
  },
  {
   "cell_type": "code",
   "execution_count": null,
   "metadata": {},
   "outputs": [],
   "source": [
    "new_variable = [\n",
    "    {\n",
    "        \"name\": \"wall_thick\",\n",
    "        \"type\": \"LENGTH\",\n",
    "        \"description\": \"wall thickness\",\n",
    "        \"expression\": \"3*(#nozzle_dia)\",\n",
    "    },\n",
    "]\n",
    "my_vs.assign_variables(new_variable, append=True)"
   ]
  },
  {
   "cell_type": "markdown",
   "metadata": {},
   "source": [
    "Finally to see the changes we have made we can call both\n",
    "- `get_variables`\n",
    "- `get_references`"
   ]
  },
  {
   "cell_type": "code",
   "execution_count": null,
   "metadata": {},
   "outputs": [],
   "source": [
    "print(json.dumps(my_vs.get_variables(), indent=2))\n",
    "print(json.dumps(my_vs.get_references(), indent=2))"
   ]
  }
 ],
 "metadata": {
  "kernelspec": {
   "display_name": "venv",
   "language": "python",
   "name": "python3"
  },
  "language_info": {
   "codemirror_mode": {
    "name": "ipython",
    "version": 3
   },
   "file_extension": ".py",
   "mimetype": "text/x-python",
   "name": "python",
   "nbconvert_exporter": "python",
   "pygments_lexer": "ipython3",
   "version": "3.9.6"
  },
  "orig_nbformat": 4
 },
 "nbformat": 4,
 "nbformat_minor": 2
}
